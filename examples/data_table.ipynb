{
 "cells": [
  {
   "cell_type": "code",
   "execution_count": 1,
   "id": "e54d04cd-e531-4dd6-827b-0a3a0f8acaa9",
   "metadata": {},
   "outputs": [],
   "source": [
    "import pandas as pd"
   ]
  },
  {
   "cell_type": "code",
   "execution_count": 2,
   "id": "b30015c0-bc75-4b5c-baba-158b7c0562d8",
   "metadata": {},
   "outputs": [],
   "source": [
    "dataframe = pd.read_csv(\n",
    "    \"https://drive.google.com/uc?id=1x2IdSNcHGLmot9i1h90gwMJr5lULC2QV&export=download\"\n",
    ")"
   ]
  },
  {
   "cell_type": "code",
   "execution_count": 3,
   "id": "68eed897-3894-4658-9935-26195ad6ca57",
   "metadata": {},
   "outputs": [],
   "source": [
    "dataframe = dataframe.rename(columns=lambda column: column.lower().replace(\" \", \"_\"))\n",
    "dataframe = dataframe.drop(columns=[\"index\"])\n",
    "\n",
    "for column_name in [\"first_name\", \"last_name\", \"company\", \"city\", \"country\"]:\n",
    "    dataframe[column_name] = dataframe[column_name].astype(pd.CategoricalDtype())"
   ]
  },
  {
   "cell_type": "code",
   "execution_count": 4,
   "id": "f7ccb2e7-0250-4aef-8e60-010ff2947a95",
   "metadata": {},
   "outputs": [
    {
     "data": {
      "application/vnd.jupyter.widget-view+json": {
       "model_id": "c32dc031116b4895973b51fb35b6114d",
       "version_major": 2,
       "version_minor": 0
      },
      "text/plain": [
       "DataTable(children=[_TableDisplay(events=['action_click', 'apply_filters', 'on_edit_close', 'on_edit_submit', …"
      ]
     },
     "execution_count": 4,
     "metadata": {},
     "output_type": "execute_result"
    }
   ],
   "source": [
    "from vTableApp.v_data_table import DataTable\n",
    "\n",
    "DataTable(dataframe)"
   ]
  },
  {
   "cell_type": "code",
   "execution_count": 18,
   "id": "1e21b4d2-6cb4-4706-aeaa-2ec7473ce9fb",
   "metadata": {},
   "outputs": [
    {
     "data": {
      "application/vnd.jupyter.widget-view+json": {
       "model_id": "6c22fc155dd34876bece257cad61bc03",
       "version_major": 2,
       "version_minor": 0
      },
      "text/plain": [
       "DataTable(children=[_TableDisplay(events=['action_click', 'apply_filters', 'on_edit_close', 'on_edit_submit', …"
      ]
     },
     "execution_count": 18,
     "metadata": {},
     "output_type": "execute_result"
    }
   ],
   "source": [
    "DataTable(\n",
    "    dataframe,\n",
    "    filter_dependencies={\"city\": (\"country\",), \"company\": (\"city\", \"country\")},\n",
    ")"
   ]
  },
  {
   "cell_type": "code",
   "execution_count": 21,
   "id": "f9bf99ee-d87f-47c0-bfd6-e805102bba5f",
   "metadata": {},
   "outputs": [
    {
     "data": {
      "application/vnd.jupyter.widget-view+json": {
       "model_id": "9976a741045a4ea2abc4b1207b30df5a",
       "version_major": 2,
       "version_minor": 0
      },
      "text/plain": [
       "DataTable(children=[_TableDisplay(action_dialogs=[Dialog(close_button_icon=True, confirm_button_icon=True, eve…"
      ]
     },
     "execution_count": 21,
     "metadata": {},
     "output_type": "execute_result"
    }
   ],
   "source": [
    "import ipyvuetify as v\n",
    "\n",
    "from vTableApp.v_dialog import Dialog\n",
    "\n",
    "dialog = Dialog(\n",
    "    open_button=\"\",\n",
    "    close_button=\"\",\n",
    "    confirm_button=\"\",\n",
    ")\n",
    "\n",
    "\n",
    "def open_dialog(item):\n",
    "    global dialog\n",
    "    dialog.title = f\"Row {item[\"index\"]}\"\n",
    "    dialog.content = [\n",
    "        v.Col(\n",
    "            children=[\n",
    "                v.Layout(\n",
    "                    class_=\"pa-1 grey lighten-2\" if idx % 2 == 1 else \"pa-1\",\n",
    "                    children=[\n",
    "                        v.Text(\n",
    "                            class_=\"font-weight-bold\",\n",
    "                            style_=\"min-width: 150px\",\n",
    "                            children=[str(key)],\n",
    "                        ),\n",
    "                        v.Spacer(),\n",
    "                        str(value),\n",
    "                    ],\n",
    "                )\n",
    "                for idx, (key, value) in enumerate(item.items())\n",
    "            ]\n",
    "        )\n",
    "    ]\n",
    "    dialog.dialog = True\n",
    "\n",
    "\n",
    "DataTable(\n",
    "    dataframe,\n",
    "    filter_dependencies={\"city\": (\"country\",), \"company\": (\"city\", \"country\")},\n",
    "    actions={\"mdi-cursor-default-outline\": open_dialog},\n",
    "    action_dialogs=[dialog],\n",
    ")"
   ]
  }
 ],
 "metadata": {
  "kernelspec": {
   "display_name": "Python 3 (ipykernel)",
   "language": "python",
   "name": "python3"
  },
  "language_info": {
   "codemirror_mode": {
    "name": "ipython",
    "version": 3
   },
   "file_extension": ".py",
   "mimetype": "text/x-python",
   "name": "python",
   "nbconvert_exporter": "python",
   "pygments_lexer": "ipython3",
   "version": "3.12.7"
  }
 },
 "nbformat": 4,
 "nbformat_minor": 5
}
