{
 "cells": [
  {
   "cell_type": "code",
   "execution_count": 1,
   "id": "e54d04cd-e531-4dd6-827b-0a3a0f8acaa9",
   "metadata": {},
   "outputs": [],
   "source": [
    "import numpy as np\n",
    "import pandas as pd"
   ]
  },
  {
   "cell_type": "code",
   "execution_count": 2,
   "id": "b30015c0-bc75-4b5c-baba-158b7c0562d8",
   "metadata": {},
   "outputs": [],
   "source": [
    "df = pd.read_csv(\n",
    "    \"/home/paul/Downloads/round_1-tank_02-day_27-thresholded_observations.csv\"\n",
    ").drop(columns=[\"true_behavior\", \"true_behavior_grouped\", \"valid\"])\n",
    "df[\"subject\"] = (\n",
    "    df[\"subject\"].apply(lambda name: name.split(\".\")[-1]).astype(pd.CategoricalDtype())\n",
    ")\n",
    "df[\"modifier\"] = (\n",
    "    df[\"modifier\"].apply(lambda name: name.split(\".\")[-1]).astype(pd.CategoricalDtype())\n",
    ")\n",
    "df[\"behavior\"] = df[\"behavior\"].astype(\n",
    "    pd.CategoricalDtype(categories=[\"none\"] + np.unique(df[\"behavior\"]).tolist())\n",
    ")\n",
    "df[\"behavior_grouped\"] = df[\"behavior_grouped\"].astype(\n",
    "    pd.CategoricalDtype([\"none\"] + np.unique(df[\"behavior_grouped\"]).tolist())\n",
    ")\n",
    "df[\"valid\"] = False"
   ]
  },
  {
   "cell_type": "code",
   "execution_count": 3,
   "id": "f7ccb2e7-0250-4aef-8e60-010ff2947a95",
   "metadata": {},
   "outputs": [],
   "source": [
    "from vTableApp.v_data_table import DataTable"
   ]
  },
  {
   "cell_type": "code",
   "execution_count": 4,
   "id": "f9bf99ee-d87f-47c0-bfd6-e805102bba5f",
   "metadata": {},
   "outputs": [
    {
     "data": {
      "application/vnd.jupyter.widget-view+json": {
       "model_id": "fd7a2a0552f84703b7acfdfc70a8ae43",
       "version_major": 2,
       "version_minor": 0
      },
      "text/plain": [
       "DataTable(children=[_TableDisplay(events=['apply_filters', 'on_edit_close', 'on_edit_submit', 'toggle_fullscre…"
      ]
     },
     "execution_count": 4,
     "metadata": {},
     "output_type": "execute_result"
    }
   ],
   "source": [
    "DataTable(\n",
    "    df,\n",
    "    filter_dependencies={\n",
    "        \"behavior\": (\"behavior_grouped\",),\n",
    "        \"probability_mean\": (\"behavior\",),\n",
    "        \"probability_max\": (\"behavior\",),\n",
    "    },\n",
    ")"
   ]
  }
 ],
 "metadata": {
  "kernelspec": {
   "display_name": "Python 3 (ipykernel)",
   "language": "python",
   "name": "python3"
  },
  "language_info": {
   "codemirror_mode": {
    "name": "ipython",
    "version": 3
   },
   "file_extension": ".py",
   "mimetype": "text/x-python",
   "name": "python",
   "nbconvert_exporter": "python",
   "pygments_lexer": "ipython3",
   "version": "3.12.7"
  }
 },
 "nbformat": 4,
 "nbformat_minor": 5
}
