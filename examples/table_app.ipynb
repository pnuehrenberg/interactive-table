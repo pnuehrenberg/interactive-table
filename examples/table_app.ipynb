{
 "cells": [
  {
   "cell_type": "code",
   "execution_count": null,
   "id": "e54d04cd-e531-4dd6-827b-0a3a0f8acaa9",
   "metadata": {},
   "outputs": [],
   "source": [
    "import pandas as pd\n",
    "\n",
    "df = pd.read_csv(\n",
    "    \"https://raw.githubusercontent.com/mwaskom/seaborn-data/refs/heads/master/mpg.csv\"\n",
    ").dropna(axis=0)"
   ]
  },
  {
   "cell_type": "code",
   "execution_count": null,
   "id": "81880851-2f6e-4194-88a2-0049de6e45c0",
   "metadata": {},
   "outputs": [],
   "source": [
    "from vTableApp import TableApp\n",
    "\n",
    "TableApp(df, filter_dependencies={\"origin\": (\"name\",)})"
   ]
  },
  {
   "cell_type": "code",
   "execution_count": null,
   "id": "8fe99193-0695-4182-af14-863631fd0f91",
   "metadata": {},
   "outputs": [],
   "source": [
    "# import ipyvuetify as v\n",
    "\n",
    "# from vTableApp.v_dialog import Dialog\n",
    "\n",
    "# b1 = v.Btn(children=[\"Dialog 1\"])\n",
    "# b2 = v.Btn(children=[\"Dialog 2\"])\n",
    "\n",
    "# d1 = Dialog(open_dialog_button=b1, content=[d2, v.TextField(label=\"Insert some text\")])\n",
    "# d2 = Dialog(open_dialog_button=b2, fullscreen=False, content=[v.TextField(label=\"Insert some text 2\")])\n",
    "\n",
    "# d1"
   ]
  }
 ],
 "metadata": {
  "kernelspec": {
   "display_name": "Python 3 (ipykernel)",
   "language": "python",
   "name": "python3"
  },
  "language_info": {
   "codemirror_mode": {
    "name": "ipython",
    "version": 3
   },
   "file_extension": ".py",
   "mimetype": "text/x-python",
   "name": "python",
   "nbconvert_exporter": "python",
   "pygments_lexer": "ipython3",
   "version": "3.12.7"
  }
 },
 "nbformat": 4,
 "nbformat_minor": 5
}
